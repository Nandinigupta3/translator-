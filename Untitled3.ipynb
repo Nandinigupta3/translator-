{
 "cells": [
  {
   "cell_type": "code",
   "execution_count": 15,
   "id": "efd41ca4",
   "metadata": {},
   "outputs": [
    {
     "name": "stdout",
     "output_type": "stream",
     "text": [
      "Enter text: aftenoon\n",
      "Corrected text:  afternoon\n"
     ]
    }
   ],
   "source": [
    "import re\n",
    "from collections import Counter\n",
    "\n",
    "# Load the dictionary file\n",
    "def load_dictionary(file_path):\n",
    "    with open(file_path, 'r') as file:\n",
    "        dictionary = file.read().splitlines()\n",
    "    return dictionary\n",
    "\n",
    "# Preprocess text by removing punctuation and converting to lowercase\n",
    "def preprocess_text(text):\n",
    "    text = re.sub(r'[^\\w\\s]', '', text)  # Remove punctuation\n",
    "    text = text.lower()  # Convert to lowercase\n",
    "    return text\n",
    "\n",
    "# Generate possible corrections for a given word\n",
    "def generate_corrections(word, dictionary):\n",
    "    alphabet = 'abcdefghijklmnopqrstuvwxyz'\n",
    "    splits = [(word[:i], word[i:]) for i in range(len(word) + 1)]\n",
    "    deletes = [left + right[1:] for left, right in splits if right]\n",
    "    transposes = [left + right[1] + right[0] + right[2:] for left, right in splits if len(right) > 1]\n",
    "    replaces = [left + c + right[1:] for left, right in splits if right for c in alphabet]\n",
    "    inserts = [left + c + right for left, right in splits for c in alphabet]\n",
    "    corrections = set(deletes + transposes + replaces + inserts)\n",
    "    return corrections.intersection(dictionary)\n",
    "\n",
    "# Auto-correct a given text\n",
    "def auto_correct(text, dictionary):\n",
    "    corrected_text = []\n",
    "    for word in text.split():\n",
    "        corrected_word = generate_corrections(word, dictionary)\n",
    "        if corrected_word:\n",
    "            corrected_text.append(corrected_word.pop())\n",
    "        else:\n",
    "            corrected_text.append(word)\n",
    "    return ' '.join(corrected_text)\n",
    "\n",
    "# Main function\n",
    "def main():\n",
    "    dictionary_file = 'dic.txt'\n",
    "    input_text = input(\"Enter text: \")\n",
    "\n",
    "    dictionary = load_dictionary(dictionary_file)\n",
    "    input_text = preprocess_text(input_text)\n",
    "    corrected_text = auto_correct(input_text, dictionary)\n",
    "\n",
    "    print(\"Corrected text: \", corrected_text)\n",
    "\n",
    "# Run the program\n",
    "if __name__ == '__main__':\n",
    "    main()\n"
   ]
  },
  {
   "cell_type": "code",
   "execution_count": null,
   "id": "d045ac81",
   "metadata": {},
   "outputs": [],
   "source": []
  },
  {
   "cell_type": "code",
   "execution_count": null,
   "id": "c63a6994",
   "metadata": {},
   "outputs": [],
   "source": []
  }
 ],
 "metadata": {
  "kernelspec": {
   "display_name": "Python 3 (ipykernel)",
   "language": "python",
   "name": "python3"
  },
  "language_info": {
   "codemirror_mode": {
    "name": "ipython",
    "version": 3
   },
   "file_extension": ".py",
   "mimetype": "text/x-python",
   "name": "python",
   "nbconvert_exporter": "python",
   "pygments_lexer": "ipython3",
   "version": "3.10.9"
  }
 },
 "nbformat": 4,
 "nbformat_minor": 5
}
